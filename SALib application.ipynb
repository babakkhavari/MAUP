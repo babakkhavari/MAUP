{
 "cells": [
  {
   "cell_type": "code",
   "execution_count": 1,
   "id": "74ee3566",
   "metadata": {},
   "outputs": [],
   "source": [
    "import sys\n",
    "\n",
    "from SALib.analyze import delta\n",
    "from SALib.util import read_param_file\n",
    "import numpy as np\n",
    "import pandas as pd"
   ]
  },
  {
   "cell_type": "code",
   "execution_count": 2,
   "id": "1d7de4c3",
   "metadata": {},
   "outputs": [
    {
     "ename": "FileNotFoundError",
     "evalue": "[Errno 2] No such file or directory: 'summaries_round_3.csv'",
     "output_type": "error",
     "traceback": [
      "\u001b[1;31m---------------------------------------------------------------------------\u001b[0m",
      "\u001b[1;31mFileNotFoundError\u001b[0m                         Traceback (most recent call last)",
      "\u001b[1;32m<ipython-input-2-66c9fe7b9e93>\u001b[0m in \u001b[0;36m<module>\u001b[1;34m\u001b[0m\n\u001b[1;32m----> 1\u001b[1;33m \u001b[0mdf\u001b[0m \u001b[1;33m=\u001b[0m \u001b[0mpd\u001b[0m\u001b[1;33m.\u001b[0m\u001b[0mread_csv\u001b[0m\u001b[1;33m(\u001b[0m\u001b[1;34m\"summaries_round_3.csv\"\u001b[0m\u001b[1;33m,\u001b[0m \u001b[0msep\u001b[0m\u001b[1;33m=\u001b[0m\u001b[1;34m';'\u001b[0m\u001b[1;33m)\u001b[0m\u001b[1;33m\u001b[0m\u001b[1;33m\u001b[0m\u001b[0m\n\u001b[0m\u001b[0;32m      2\u001b[0m \u001b[1;33m\u001b[0m\u001b[0m\n\u001b[0;32m      3\u001b[0m \u001b[0mdf\u001b[0m\u001b[1;33m[\u001b[0m\u001b[1;34m'ElecRate'\u001b[0m\u001b[1;33m]\u001b[0m \u001b[1;33m=\u001b[0m \u001b[1;36m0.42\u001b[0m\u001b[1;33m\u001b[0m\u001b[1;33m\u001b[0m\u001b[0m\n\u001b[0;32m      4\u001b[0m \u001b[0mdf\u001b[0m\u001b[1;33m[\u001b[0m\u001b[1;34m\"Pop2030\"\u001b[0m\u001b[1;33m]\u001b[0m \u001b[1;33m=\u001b[0m \u001b[1;36m15672000\u001b[0m\u001b[1;33m\u001b[0m\u001b[1;33m\u001b[0m\u001b[0m\n\u001b[0;32m      5\u001b[0m \u001b[1;33m\u001b[0m\u001b[0m\n",
      "\u001b[1;32m~\\.conda\\envs\\MAUP\\lib\\site-packages\\pandas\\io\\parsers.py\u001b[0m in \u001b[0;36mread_csv\u001b[1;34m(filepath_or_buffer, sep, delimiter, header, names, index_col, usecols, squeeze, prefix, mangle_dupe_cols, dtype, engine, converters, true_values, false_values, skipinitialspace, skiprows, skipfooter, nrows, na_values, keep_default_na, na_filter, verbose, skip_blank_lines, parse_dates, infer_datetime_format, keep_date_col, date_parser, dayfirst, cache_dates, iterator, chunksize, compression, thousands, decimal, lineterminator, quotechar, quoting, doublequote, escapechar, comment, encoding, dialect, error_bad_lines, warn_bad_lines, delim_whitespace, low_memory, memory_map, float_precision, storage_options)\u001b[0m\n\u001b[0;32m    608\u001b[0m     \u001b[0mkwds\u001b[0m\u001b[1;33m.\u001b[0m\u001b[0mupdate\u001b[0m\u001b[1;33m(\u001b[0m\u001b[0mkwds_defaults\u001b[0m\u001b[1;33m)\u001b[0m\u001b[1;33m\u001b[0m\u001b[1;33m\u001b[0m\u001b[0m\n\u001b[0;32m    609\u001b[0m \u001b[1;33m\u001b[0m\u001b[0m\n\u001b[1;32m--> 610\u001b[1;33m     \u001b[1;32mreturn\u001b[0m \u001b[0m_read\u001b[0m\u001b[1;33m(\u001b[0m\u001b[0mfilepath_or_buffer\u001b[0m\u001b[1;33m,\u001b[0m \u001b[0mkwds\u001b[0m\u001b[1;33m)\u001b[0m\u001b[1;33m\u001b[0m\u001b[1;33m\u001b[0m\u001b[0m\n\u001b[0m\u001b[0;32m    611\u001b[0m \u001b[1;33m\u001b[0m\u001b[0m\n\u001b[0;32m    612\u001b[0m \u001b[1;33m\u001b[0m\u001b[0m\n",
      "\u001b[1;32m~\\.conda\\envs\\MAUP\\lib\\site-packages\\pandas\\io\\parsers.py\u001b[0m in \u001b[0;36m_read\u001b[1;34m(filepath_or_buffer, kwds)\u001b[0m\n\u001b[0;32m    460\u001b[0m \u001b[1;33m\u001b[0m\u001b[0m\n\u001b[0;32m    461\u001b[0m     \u001b[1;31m# Create the parser.\u001b[0m\u001b[1;33m\u001b[0m\u001b[1;33m\u001b[0m\u001b[1;33m\u001b[0m\u001b[0m\n\u001b[1;32m--> 462\u001b[1;33m     \u001b[0mparser\u001b[0m \u001b[1;33m=\u001b[0m \u001b[0mTextFileReader\u001b[0m\u001b[1;33m(\u001b[0m\u001b[0mfilepath_or_buffer\u001b[0m\u001b[1;33m,\u001b[0m \u001b[1;33m**\u001b[0m\u001b[0mkwds\u001b[0m\u001b[1;33m)\u001b[0m\u001b[1;33m\u001b[0m\u001b[1;33m\u001b[0m\u001b[0m\n\u001b[0m\u001b[0;32m    463\u001b[0m \u001b[1;33m\u001b[0m\u001b[0m\n\u001b[0;32m    464\u001b[0m     \u001b[1;32mif\u001b[0m \u001b[0mchunksize\u001b[0m \u001b[1;32mor\u001b[0m \u001b[0miterator\u001b[0m\u001b[1;33m:\u001b[0m\u001b[1;33m\u001b[0m\u001b[1;33m\u001b[0m\u001b[0m\n",
      "\u001b[1;32m~\\.conda\\envs\\MAUP\\lib\\site-packages\\pandas\\io\\parsers.py\u001b[0m in \u001b[0;36m__init__\u001b[1;34m(self, f, engine, **kwds)\u001b[0m\n\u001b[0;32m    817\u001b[0m             \u001b[0mself\u001b[0m\u001b[1;33m.\u001b[0m\u001b[0moptions\u001b[0m\u001b[1;33m[\u001b[0m\u001b[1;34m\"has_index_names\"\u001b[0m\u001b[1;33m]\u001b[0m \u001b[1;33m=\u001b[0m \u001b[0mkwds\u001b[0m\u001b[1;33m[\u001b[0m\u001b[1;34m\"has_index_names\"\u001b[0m\u001b[1;33m]\u001b[0m\u001b[1;33m\u001b[0m\u001b[1;33m\u001b[0m\u001b[0m\n\u001b[0;32m    818\u001b[0m \u001b[1;33m\u001b[0m\u001b[0m\n\u001b[1;32m--> 819\u001b[1;33m         \u001b[0mself\u001b[0m\u001b[1;33m.\u001b[0m\u001b[0m_engine\u001b[0m \u001b[1;33m=\u001b[0m \u001b[0mself\u001b[0m\u001b[1;33m.\u001b[0m\u001b[0m_make_engine\u001b[0m\u001b[1;33m(\u001b[0m\u001b[0mself\u001b[0m\u001b[1;33m.\u001b[0m\u001b[0mengine\u001b[0m\u001b[1;33m)\u001b[0m\u001b[1;33m\u001b[0m\u001b[1;33m\u001b[0m\u001b[0m\n\u001b[0m\u001b[0;32m    820\u001b[0m \u001b[1;33m\u001b[0m\u001b[0m\n\u001b[0;32m    821\u001b[0m     \u001b[1;32mdef\u001b[0m \u001b[0mclose\u001b[0m\u001b[1;33m(\u001b[0m\u001b[0mself\u001b[0m\u001b[1;33m)\u001b[0m\u001b[1;33m:\u001b[0m\u001b[1;33m\u001b[0m\u001b[1;33m\u001b[0m\u001b[0m\n",
      "\u001b[1;32m~\\.conda\\envs\\MAUP\\lib\\site-packages\\pandas\\io\\parsers.py\u001b[0m in \u001b[0;36m_make_engine\u001b[1;34m(self, engine)\u001b[0m\n\u001b[0;32m   1048\u001b[0m             )\n\u001b[0;32m   1049\u001b[0m         \u001b[1;31m# error: Too many arguments for \"ParserBase\"\u001b[0m\u001b[1;33m\u001b[0m\u001b[1;33m\u001b[0m\u001b[1;33m\u001b[0m\u001b[0m\n\u001b[1;32m-> 1050\u001b[1;33m         \u001b[1;32mreturn\u001b[0m \u001b[0mmapping\u001b[0m\u001b[1;33m[\u001b[0m\u001b[0mengine\u001b[0m\u001b[1;33m]\u001b[0m\u001b[1;33m(\u001b[0m\u001b[0mself\u001b[0m\u001b[1;33m.\u001b[0m\u001b[0mf\u001b[0m\u001b[1;33m,\u001b[0m \u001b[1;33m**\u001b[0m\u001b[0mself\u001b[0m\u001b[1;33m.\u001b[0m\u001b[0moptions\u001b[0m\u001b[1;33m)\u001b[0m  \u001b[1;31m# type: ignore[call-arg]\u001b[0m\u001b[1;33m\u001b[0m\u001b[1;33m\u001b[0m\u001b[0m\n\u001b[0m\u001b[0;32m   1051\u001b[0m \u001b[1;33m\u001b[0m\u001b[0m\n\u001b[0;32m   1052\u001b[0m     \u001b[1;32mdef\u001b[0m \u001b[0m_failover_to_python\u001b[0m\u001b[1;33m(\u001b[0m\u001b[0mself\u001b[0m\u001b[1;33m)\u001b[0m\u001b[1;33m:\u001b[0m\u001b[1;33m\u001b[0m\u001b[1;33m\u001b[0m\u001b[0m\n",
      "\u001b[1;32m~\\.conda\\envs\\MAUP\\lib\\site-packages\\pandas\\io\\parsers.py\u001b[0m in \u001b[0;36m__init__\u001b[1;34m(self, src, **kwds)\u001b[0m\n\u001b[0;32m   1865\u001b[0m \u001b[1;33m\u001b[0m\u001b[0m\n\u001b[0;32m   1866\u001b[0m         \u001b[1;31m# open handles\u001b[0m\u001b[1;33m\u001b[0m\u001b[1;33m\u001b[0m\u001b[1;33m\u001b[0m\u001b[0m\n\u001b[1;32m-> 1867\u001b[1;33m         \u001b[0mself\u001b[0m\u001b[1;33m.\u001b[0m\u001b[0m_open_handles\u001b[0m\u001b[1;33m(\u001b[0m\u001b[0msrc\u001b[0m\u001b[1;33m,\u001b[0m \u001b[0mkwds\u001b[0m\u001b[1;33m)\u001b[0m\u001b[1;33m\u001b[0m\u001b[1;33m\u001b[0m\u001b[0m\n\u001b[0m\u001b[0;32m   1868\u001b[0m         \u001b[1;32massert\u001b[0m \u001b[0mself\u001b[0m\u001b[1;33m.\u001b[0m\u001b[0mhandles\u001b[0m \u001b[1;32mis\u001b[0m \u001b[1;32mnot\u001b[0m \u001b[1;32mNone\u001b[0m\u001b[1;33m\u001b[0m\u001b[1;33m\u001b[0m\u001b[0m\n\u001b[0;32m   1869\u001b[0m         \u001b[1;32mfor\u001b[0m \u001b[0mkey\u001b[0m \u001b[1;32min\u001b[0m \u001b[1;33m(\u001b[0m\u001b[1;34m\"storage_options\"\u001b[0m\u001b[1;33m,\u001b[0m \u001b[1;34m\"encoding\"\u001b[0m\u001b[1;33m,\u001b[0m \u001b[1;34m\"memory_map\"\u001b[0m\u001b[1;33m,\u001b[0m \u001b[1;34m\"compression\"\u001b[0m\u001b[1;33m)\u001b[0m\u001b[1;33m:\u001b[0m\u001b[1;33m\u001b[0m\u001b[1;33m\u001b[0m\u001b[0m\n",
      "\u001b[1;32m~\\.conda\\envs\\MAUP\\lib\\site-packages\\pandas\\io\\parsers.py\u001b[0m in \u001b[0;36m_open_handles\u001b[1;34m(self, src, kwds)\u001b[0m\n\u001b[0;32m   1360\u001b[0m         \u001b[0mLet\u001b[0m \u001b[0mthe\u001b[0m \u001b[0mreaders\u001b[0m \u001b[0mopen\u001b[0m \u001b[0mIOHanldes\u001b[0m \u001b[0mafter\u001b[0m \u001b[0mthey\u001b[0m \u001b[0mare\u001b[0m \u001b[0mdone\u001b[0m \u001b[1;32mwith\u001b[0m \u001b[0mtheir\u001b[0m \u001b[0mpotential\u001b[0m \u001b[0mraises\u001b[0m\u001b[1;33m.\u001b[0m\u001b[1;33m\u001b[0m\u001b[1;33m\u001b[0m\u001b[0m\n\u001b[0;32m   1361\u001b[0m         \"\"\"\n\u001b[1;32m-> 1362\u001b[1;33m         self.handles = get_handle(\n\u001b[0m\u001b[0;32m   1363\u001b[0m             \u001b[0msrc\u001b[0m\u001b[1;33m,\u001b[0m\u001b[1;33m\u001b[0m\u001b[1;33m\u001b[0m\u001b[0m\n\u001b[0;32m   1364\u001b[0m             \u001b[1;34m\"r\"\u001b[0m\u001b[1;33m,\u001b[0m\u001b[1;33m\u001b[0m\u001b[1;33m\u001b[0m\u001b[0m\n",
      "\u001b[1;32m~\\.conda\\envs\\MAUP\\lib\\site-packages\\pandas\\io\\common.py\u001b[0m in \u001b[0;36mget_handle\u001b[1;34m(path_or_buf, mode, encoding, compression, memory_map, is_text, errors, storage_options)\u001b[0m\n\u001b[0;32m    640\u001b[0m                 \u001b[0merrors\u001b[0m \u001b[1;33m=\u001b[0m \u001b[1;34m\"replace\"\u001b[0m\u001b[1;33m\u001b[0m\u001b[1;33m\u001b[0m\u001b[0m\n\u001b[0;32m    641\u001b[0m             \u001b[1;31m# Encoding\u001b[0m\u001b[1;33m\u001b[0m\u001b[1;33m\u001b[0m\u001b[1;33m\u001b[0m\u001b[0m\n\u001b[1;32m--> 642\u001b[1;33m             handle = open(\n\u001b[0m\u001b[0;32m    643\u001b[0m                 \u001b[0mhandle\u001b[0m\u001b[1;33m,\u001b[0m\u001b[1;33m\u001b[0m\u001b[1;33m\u001b[0m\u001b[0m\n\u001b[0;32m    644\u001b[0m                 \u001b[0mioargs\u001b[0m\u001b[1;33m.\u001b[0m\u001b[0mmode\u001b[0m\u001b[1;33m,\u001b[0m\u001b[1;33m\u001b[0m\u001b[1;33m\u001b[0m\u001b[0m\n",
      "\u001b[1;31mFileNotFoundError\u001b[0m: [Errno 2] No such file or directory: 'summaries_round_3.csv'"
     ]
    }
   ],
   "source": [
    "df = pd.read_csv(\"summaries_round_3.csv\", sep=';')\n",
    "\n",
    "df['ElecRate'] = 0.42\n",
    "df[\"Pop2030\"] = 15672000\n",
    "\n",
    "df['ElecRate'] = np.where(df['Country'] == 'na', 0.54, df['ElecRate'])\n",
    "df['ElecRate'] = np.where(df['Country'] == 'mw', 0.18, df['ElecRate'])\n",
    "\n",
    "df['Pop2030'] = np.where(df['Country'] == 'na', 3010873, df['Pop2030'] )\n",
    "df['Pop2030'] = np.where(df['Country'] == 'mw', 19130000, df['Pop2030'])\n",
    "\n",
    "cols = ['EDemand',\n",
    " 'GridGenCost',\n",
    " 'PVCost',\n",
    " 'GridCapInvCost',\n",
    " 'DiscountRate',\n",
    " 'LVCost',\n",
    " 'MVCost',\n",
    " 'GridLosses',\n",
    " 'Core',\n",
    " 'Buffer',\n",
    " 'Admin',\n",
    " 'Method',\n",
    " 'Res',\n",
    " 'ElecRate',\n",
    " 'NatPopDens',\n",
    " 'Pop2030',\n",
    " 'PopGrid',\n",
    " 'PopMG',\n",
    " 'PopSA',\n",
    " 'AddedCapGrid',\n",
    " 'AddedCapSA',\n",
    " 'AddedCapMG',\n",
    " 'GridInv',\n",
    " 'SAInv',\n",
    " 'MGInv',\n",
    " 'TotInv',\n",
    " 'LCOEGrid',\n",
    " 'LCOESA',\n",
    " 'LCOEMGWind',\n",
    " 'LCOEMGPV',\n",
    " 'LCOEMGHydro',\n",
    " 'LCOE',\n",
    " 'Country']\n",
    "\n",
    "df = df[cols]\n",
    "\n",
    "df[\"RatioGridPop\"] = 100*(df[\"PopGrid\"]/df['Pop2030'])\n",
    "df[\"RatioMGPop\"] = 100*(df[\"PopMG\"]/df['Pop2030'])\n",
    "df[\"RatioSAPop\"] = 100*(df[\"PopSA\"]/df['Pop2030'])\n",
    "\n",
    "df[\"RatioGridInv\"] = 100*(df[\"GridInv\"]/df['TotInv'])\n",
    "df[\"RatioSAInv\"] = 100*(df[\"SAInv\"]/df['TotInv'])\n",
    "df[\"RatioMGInv\"] = 100*(df[\"MGInv\"]/df['TotInv'])\n",
    "\n",
    "df_shuffled = df.sample(frac=1)"
   ]
  },
  {
   "cell_type": "code",
   "execution_count": null,
   "id": "39831554",
   "metadata": {},
   "outputs": [],
   "source": [
    "dfB = df_shuffled.loc[df['Country'] == 'bj']\n",
    "dfN = df_shuffled.loc[df['Country'] == 'na']\n",
    "dfM = df_shuffled.loc[df['Country'] == 'mw']\n",
    "dfB['id'] = np.arange(len(dfB))\n",
    "dfN['id'] = np.arange(len(dfN))\n",
    "dfM['id'] = np.arange(len(dfM))"
   ]
  },
  {
   "cell_type": "code",
   "execution_count": null,
   "id": "4c9181d5",
   "metadata": {},
   "outputs": [],
   "source": [
    "problem_merged = read_param_file('params_merged.txt')\n",
    "problem_bj =read_param_file('params_ben.txt')\n",
    "problem_na = read_param_file('params_nam.txt')\n",
    "problem_mw = read_param_file('params_mal.txt')"
   ]
  },
  {
   "cell_type": "markdown",
   "id": "7142f091",
   "metadata": {},
   "source": [
    "## Merged"
   ]
  },
  {
   "cell_type": "code",
   "execution_count": null,
   "id": "a3ab505e",
   "metadata": {},
   "outputs": [],
   "source": [
    "param_values=df_shuffled.iloc[:, : 16]\n",
    "np.savetxt(r'model_input_merged.txt', param_values.values)\n",
    "X_merged = np.loadtxt(r\"model_input_merged.txt\")"
   ]
  },
  {
   "cell_type": "code",
   "execution_count": null,
   "id": "6fbb722c",
   "metadata": {},
   "outputs": [],
   "source": [
    "out = df_shuffled[\"RatioMGPop\"]\n",
    "np.savetxt(r'model_output_merged.txt', out.values)\n",
    "Y_merged = np.loadtxt(r\"model_output_merged.txt\")"
   ]
  },
  {
   "cell_type": "code",
   "execution_count": null,
   "id": "be1fea6e",
   "metadata": {},
   "outputs": [],
   "source": [
    "S_merged = delta.analyze(problem_merged, X_merged, Y_merged, num_resamples=10, conf_level=0.95, print_to_console=True)"
   ]
  },
  {
   "cell_type": "markdown",
   "id": "387e18b0",
   "metadata": {},
   "source": [
    "## Benin"
   ]
  },
  {
   "cell_type": "code",
   "execution_count": null,
   "id": "3008f542",
   "metadata": {},
   "outputs": [],
   "source": [
    "param_values=dfB.iloc[:, : 14]\n",
    "np.savetxt(r'model_input_ben.txt', param_values.values)\n",
    "X_bj = np.loadtxt(r\"model_input_ben.txt\")"
   ]
  },
  {
   "cell_type": "code",
   "execution_count": null,
   "id": "32b2cbf0",
   "metadata": {},
   "outputs": [],
   "source": [
    "out = dfB[\"RatioMGPop\"]\n",
    "np.savetxt(r'model_output_ben.txt', out.values)\n",
    "Y_bj = np.loadtxt(r\"model_output_ben.txt\")"
   ]
  },
  {
   "cell_type": "code",
   "execution_count": null,
   "id": "f70351fd",
   "metadata": {},
   "outputs": [],
   "source": [
    "Si_ben = delta.analyze(problem_bj, X_bj, Y_bj, num_resamples=10, conf_level=0.95, print_to_console=True)"
   ]
  },
  {
   "cell_type": "markdown",
   "id": "7258d21e",
   "metadata": {},
   "source": [
    "## Malawi"
   ]
  },
  {
   "cell_type": "code",
   "execution_count": null,
   "id": "ed1fa895",
   "metadata": {},
   "outputs": [],
   "source": [
    "param_values=dfM.iloc[:, : 14]\n",
    "np.savetxt(r'model_input_mal.txt', param_values.values)\n",
    "X_mw = np.loadtxt(r\"model_input_mal.txt\")"
   ]
  },
  {
   "cell_type": "code",
   "execution_count": null,
   "id": "0848050e",
   "metadata": {},
   "outputs": [],
   "source": [
    "out = dfM[\"LCOE\"]\n",
    "np.savetxt(r'model_output_mal.txt', out.values)\n",
    "Y_mw = np.loadtxt(r\"model_output_mal.txt\")"
   ]
  },
  {
   "cell_type": "code",
   "execution_count": null,
   "id": "ed1b7e05",
   "metadata": {},
   "outputs": [],
   "source": [
    "Si_mal = delta.analyze(problem_mw, X_mw, Y_mw, num_resamples=10, conf_level=0.95, print_to_console=True)"
   ]
  },
  {
   "cell_type": "markdown",
   "id": "d037051f",
   "metadata": {},
   "source": [
    "## Namibia"
   ]
  },
  {
   "cell_type": "code",
   "execution_count": null,
   "id": "0966b431",
   "metadata": {},
   "outputs": [],
   "source": [
    "param_values=dfN.iloc[:, : 14]\n",
    "np.savetxt(r'model_input_nam.txt', param_values.values)\n",
    "X_na = np.loadtxt(r\"model_input_nam.txt\")"
   ]
  },
  {
   "cell_type": "code",
   "execution_count": null,
   "id": "c47fb5ab",
   "metadata": {},
   "outputs": [],
   "source": [
    "out = dfN[\"LCOE\"]\n",
    "np.savetxt(r'model_output_nam.txt', out.values)\n",
    "Y_na = np.loadtxt(r\"model_output_nam.txt\")"
   ]
  },
  {
   "cell_type": "code",
   "execution_count": null,
   "id": "1c8c636d",
   "metadata": {},
   "outputs": [],
   "source": [
    "Si_nam = delta.analyze(problem_na, X_na, Y_na, num_resamples=10, conf_level=0.95, print_to_console=True)"
   ]
  }
 ],
 "metadata": {
  "kernelspec": {
   "display_name": "Python 3",
   "language": "python",
   "name": "python3"
  },
  "language_info": {
   "codemirror_mode": {
    "name": "ipython",
    "version": 3
   },
   "file_extension": ".py",
   "mimetype": "text/x-python",
   "name": "python",
   "nbconvert_exporter": "python",
   "pygments_lexer": "ipython3",
   "version": "3.9.2"
  }
 },
 "nbformat": 4,
 "nbformat_minor": 5
}
