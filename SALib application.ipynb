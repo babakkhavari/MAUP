{
 "cells": [
  {
   "cell_type": "code",
   "execution_count": null,
   "id": "74ee3566",
   "metadata": {},
   "outputs": [],
   "source": [
    "import sys\n",
    "\n",
    "from SALib.analyze import delta\n",
    "from SALib.util import read_param_file\n",
    "import numpy as np\n",
    "import pandas as pd\n",
    "\n",
    "import seaborn as sns\n",
    "import matplotlib as mpl\n",
    "import matplotlib.pyplot as plt\n",
    "from numpy import random\n",
    "from SALib.analyze import rbd_fast"
   ]
  },
  {
   "cell_type": "code",
   "execution_count": null,
   "id": "1d7de4c3",
   "metadata": {},
   "outputs": [],
   "source": [
    "df = pd.read_csv(\"summaries_round_3.csv\", sep=';')\n",
    "\n",
    "df['ElecRate'] = 0.42\n",
    "df[\"Pop2030\"] = 15672000\n",
    "\n",
    "df['ElecRate'] = np.where(df['Country'] == 'na', 0.54, df['ElecRate'])\n",
    "df['ElecRate'] = np.where(df['Country'] == 'mw', 0.18, df['ElecRate'])\n",
    "\n",
    "df['Pop2030'] = np.where(df['Country'] == 'na', 3010873, df['Pop2030'] )\n",
    "df['Pop2030'] = np.where(df['Country'] == 'mw', 19130000, df['Pop2030'])\n",
    "\n",
    "cols = ['EDemand',\n",
    " 'GridGenCost',\n",
    " 'PVCost',\n",
    " 'GridCapInvCost',\n",
    " 'DiscountRate',\n",
    " 'LVCost',\n",
    " 'MVCost',\n",
    " 'GridLosses',\n",
    " 'Core',\n",
    " 'Buffer',\n",
    " 'Admin',\n",
    " 'Method',\n",
    " 'Res',\n",
    " 'ElecRate',\n",
    " 'NatPopDens',\n",
    " 'Pop2030',\n",
    " 'PopGrid',\n",
    " 'PopMG',\n",
    " 'PopSA',\n",
    " 'AddedCapGrid',\n",
    " 'AddedCapSA',\n",
    " 'AddedCapMG',\n",
    " 'GridInv',\n",
    " 'SAInv',\n",
    " 'MGInv',\n",
    " 'TotInv',\n",
    " 'LCOEGrid',\n",
    " 'LCOESA',\n",
    " 'LCOEMGWind',\n",
    " 'LCOEMGPV',\n",
    " 'LCOEMGHydro',\n",
    " 'LCOE',\n",
    " 'Country']\n",
    "\n",
    "df = df[cols]\n",
    "\n",
    "df[\"RatioGridPop\"] = 100*(df[\"PopGrid\"]/df['Pop2030'])\n",
    "df[\"RatioMGPop\"] = 100*(df[\"PopMG\"]/df['Pop2030'])\n",
    "df[\"RatioSAPop\"] = 100*(df[\"PopSA\"]/df['Pop2030'])\n",
    "\n",
    "df[\"RatioGridInv\"] = 100*(df[\"GridInv\"]/df['TotInv'])\n",
    "df[\"RatioSAInv\"] = 100*(df[\"SAInv\"]/df['TotInv'])\n",
    "df[\"RatioMGInv\"] = 100*(df[\"MGInv\"]/df['TotInv'])\n",
    "\n",
    "df_shuffled = df.sample(frac=1)"
   ]
  },
  {
   "cell_type": "code",
   "execution_count": null,
   "id": "39831554",
   "metadata": {},
   "outputs": [],
   "source": [
    "dfB = df_shuffled.loc[df['Country'] == 'bj']\n",
    "dfN = df_shuffled.loc[df['Country'] == 'na']\n",
    "dfM = df_shuffled.loc[df['Country'] == 'mw']\n",
    "dfB['id'] = np.arange(len(dfB))\n",
    "dfN['id'] = np.arange(len(dfN))\n",
    "dfM['id'] = np.arange(len(dfM))"
   ]
  },
  {
   "cell_type": "code",
   "execution_count": null,
   "id": "4c9181d5",
   "metadata": {},
   "outputs": [],
   "source": [
    "problem_merged = read_param_file('params_merged.txt')\n",
    "problem_bj =read_param_file('params_ben.txt')\n",
    "problem_na = read_param_file('params_nam.txt')\n",
    "problem_mw = read_param_file('params_mal.txt')"
   ]
  },
  {
   "cell_type": "markdown",
   "id": "7142f091",
   "metadata": {},
   "source": [
    "## Merged"
   ]
  },
  {
   "cell_type": "code",
   "execution_count": null,
   "id": "a3ab505e",
   "metadata": {},
   "outputs": [],
   "source": [
    "param_values=df_shuffled.iloc[:, : 16]\n",
    "np.savetxt(r'model_input_merged.txt', param_values.values)\n",
    "X_merged = np.loadtxt(r\"model_input_merged.txt\")"
   ]
  },
  {
   "cell_type": "code",
   "execution_count": null,
   "id": "6fbb722c",
   "metadata": {},
   "outputs": [],
   "source": [
    "out = df_shuffled[\"RatioMGPop\"]\n",
    "np.savetxt(r'model_output_merged.txt', out.values)\n",
    "Y_merged = np.loadtxt(r\"model_output_merged.txt\")"
   ]
  },
  {
   "cell_type": "code",
   "execution_count": null,
   "id": "be1fea6e",
   "metadata": {},
   "outputs": [],
   "source": [
    "S_merged = delta.analyze(problem_merged, X_merged, Y_merged, num_resamples=10, conf_level=0.95, print_to_console=True)"
   ]
  },
  {
   "cell_type": "markdown",
   "id": "387e18b0",
   "metadata": {},
   "source": [
    "## Benin"
   ]
  },
  {
   "cell_type": "code",
   "execution_count": null,
   "id": "3008f542",
   "metadata": {},
   "outputs": [],
   "source": [
    "param_values=dfB.iloc[:, : 14]\n",
    "np.savetxt(r'model_input_ben.txt', param_values.values)\n",
    "X_bj = np.loadtxt(r\"model_input_ben.txt\")"
   ]
  },
  {
   "cell_type": "code",
   "execution_count": null,
   "id": "32b2cbf0",
   "metadata": {},
   "outputs": [],
   "source": [
    "out = dfB[\"RatioMGPop\"]\n",
    "np.savetxt(r'model_output_ben.txt', out.values)\n",
    "Y_bj = np.loadtxt(r\"model_output_ben.txt\")"
   ]
  },
  {
   "cell_type": "code",
   "execution_count": null,
   "id": "f70351fd",
   "metadata": {},
   "outputs": [],
   "source": [
    "Si_ben = delta.analyze(problem_bj, X_bj, Y_bj, num_resamples=10, conf_level=0.95, print_to_console=True)"
   ]
  },
  {
   "cell_type": "markdown",
   "id": "7258d21e",
   "metadata": {},
   "source": [
    "## Malawi"
   ]
  },
  {
   "cell_type": "code",
   "execution_count": null,
   "id": "ed1fa895",
   "metadata": {},
   "outputs": [],
   "source": [
    "param_values=dfM.iloc[:, : 14]\n",
    "np.savetxt(r'model_input_mal.txt', param_values.values)\n",
    "X_mw = np.loadtxt(r\"model_input_mal.txt\")"
   ]
  },
  {
   "cell_type": "code",
   "execution_count": null,
   "id": "0848050e",
   "metadata": {},
   "outputs": [],
   "source": [
    "out = dfM[\"LCOE\"]\n",
    "np.savetxt(r'model_output_mal.txt', out.values)\n",
    "Y_mw = np.loadtxt(r\"model_output_mal.txt\")"
   ]
  },
  {
   "cell_type": "code",
   "execution_count": null,
   "id": "ed1b7e05",
   "metadata": {},
   "outputs": [],
   "source": [
    "Si_mal = delta.analyze(problem_mw, X_mw, Y_mw, num_resamples=10, conf_level=0.95, print_to_console=True)"
   ]
  },
  {
   "cell_type": "markdown",
   "id": "d037051f",
   "metadata": {},
   "source": [
    "## Namibia"
   ]
  },
  {
   "cell_type": "code",
   "execution_count": null,
   "id": "0966b431",
   "metadata": {},
   "outputs": [],
   "source": [
    "param_values=dfN.iloc[:, : 14]\n",
    "np.savetxt(r'model_input_nam.txt', param_values.values)\n",
    "X_na = np.loadtxt(r\"model_input_nam.txt\")"
   ]
  },
  {
   "cell_type": "code",
   "execution_count": null,
   "id": "c47fb5ab",
   "metadata": {},
   "outputs": [],
   "source": [
    "out = dfN[\"LCOE\"]\n",
    "np.savetxt(r'model_output_nam.txt', out.values)\n",
    "Y_na = np.loadtxt(r\"model_output_nam.txt\")"
   ]
  },
  {
   "cell_type": "code",
   "execution_count": null,
   "id": "1c8c636d",
   "metadata": {},
   "outputs": [],
   "source": [
    "Si_nam = delta.analyze(problem_na, X_na, Y_na, num_resamples=10, conf_level=0.95, print_to_console=True)"
   ]
  },
  {
   "cell_type": "markdown",
   "id": "db3024c5",
   "metadata": {},
   "source": [
    "## Visualization"
   ]
  },
  {
   "cell_type": "markdown",
   "id": "07510d19",
   "metadata": {},
   "source": [
    "### Convergance"
   ]
  },
  {
   "cell_type": "code",
   "execution_count": null,
   "id": "633affe4",
   "metadata": {},
   "outputs": [],
   "source": [
    "df_shuffled = df.sample(frac=1)"
   ]
  },
  {
   "cell_type": "code",
   "execution_count": null,
   "id": "1e726448",
   "metadata": {},
   "outputs": [],
   "source": [
    "i = 40\n",
    "delta_v = []\n",
    "d_conf = []\n",
    "S1_v = []\n",
    "S1_conf = []"
   ]
  },
  {
   "cell_type": "code",
   "execution_count": null,
   "id": "2e51f348",
   "metadata": {},
   "outputs": [],
   "source": [
    "while i <= 6240:\n",
    "    df1x = df_shuffled[:i]\n",
    "    \n",
    "    param_values=df1x.iloc[:, : 16]\n",
    "    np.savetxt(r'model_input_merged.txt', param_values.values)\n",
    "    X = np.loadtxt(r\"model_input_merged.txt\")\n",
    "    \n",
    "    out = df1x[\"TotInv\"]\n",
    "    \n",
    "    np.savetxt(r'model_output_merged.txt', out.values)\n",
    "    Y = np.loadtxt(r\"model_output_merged.txt\")\n",
    "    Si = delta.analyze(problem_merged, X, Y, num_resamples=10, conf_level=0.95, print_to_console=False)\n",
    "    \n",
    "    delta_v.append(Si['delta'].tolist())\n",
    "    d_conf.append(Si['delta_conf'].tolist())\n",
    "    S1_v.append(Si['S1'].tolist())\n",
    "    S1_conf.append(Si['S1_conf'].tolist())\n",
    "    i = i + 3000"
   ]
  },
  {
   "cell_type": "code",
   "execution_count": null,
   "id": "c0ec53b3",
   "metadata": {},
   "outputs": [],
   "source": [
    "conf = pd.DataFrame(d_conf, columns = ['EDemand',\n",
    " 'GridGenCost',\n",
    " 'PVCost',\n",
    " 'GridCapInvCost',\n",
    " 'DiscountRate',\n",
    " 'LVCost',\n",
    " 'MVCost',\n",
    " 'GridLosses',\n",
    " 'NatPopDens',                           \n",
    " 'Core',\n",
    " 'Buffer',\n",
    " 'Admin',\n",
    " 'Method',\n",
    " 'Res',\n",
    " 'ElecRate',\n",
    " 'Pop2030'])\n",
    "\n",
    "delta_df = pd.DataFrame(delta_v, columns = ['EDemand',\n",
    " 'GridGenCost',\n",
    " 'PVCost',\n",
    " 'GridCapInvCost',\n",
    " 'DiscountRate',\n",
    " 'LVCost',\n",
    " 'MVCost',\n",
    " 'GridLosses',\n",
    " 'NatPopDens',                           \n",
    " 'Core',\n",
    " 'Buffer',\n",
    " 'Admin',\n",
    " 'Method',\n",
    " 'Res',\n",
    " 'ElecRate',\n",
    " 'Pop2030'])\n",
    "\n",
    "\n",
    "delta_df.to_csv(\"TotInv_delta.csv\")\n",
    "conf.to_csv(\"TotInv_conf.csv\")"
   ]
  },
  {
   "cell_type": "code",
   "execution_count": null,
   "id": "f161d73d",
   "metadata": {},
   "outputs": [],
   "source": [
    "merged_delta = pd.read_csv(\"TotInv_delta.csv\", sep=None)\n",
    "merged_delta.rename(columns={'Unnamed: 0':'Runs', 'EDemand':'Demand','Core':'minPts', 'Res':'Resolution', 'ElecRate': '2020ElecRate'}, inplace=True)"
   ]
  },
  {
   "cell_type": "code",
   "execution_count": null,
   "id": "f8f7acf7",
   "metadata": {},
   "outputs": [],
   "source": [
    "merged_conf = pd.read_csv(\"TotInv_conf.csv\", sep=None)\n",
    "merged_conf.rename(columns={'Unnamed: 0':'Runs', 'EDemand':'Demand','Core':'minPts', 'Res':'Resolution', 'ElecRate': '2020ElecRate'}, inplace=True)"
   ]
  },
  {
   "cell_type": "code",
   "execution_count": null,
   "id": "6e65bacb",
   "metadata": {},
   "outputs": [],
   "source": [
    "fig, (ax1, ax2) = plt.subplots(2,1,figsize=(15,20))\n",
    "ax1.set_title('Delta value')\n",
    "ax2.set_title('Confidence intervall')\n",
    "sns.set(font_scale=1)\n",
    "\n",
    "ax1.set_xlim([0, 6240])\n",
    "ax1.set_ylim([0, 0.7])\n",
    "ax2.set_xlim([0, 6240])\n",
    "ax2.set_ylim([0, 0.2])\n",
    "\n",
    "df_d = merged_delta.melt('Runs', var_name='cols',  value_name='vals')\n",
    "df_d[\"Runs\"] = df_d[\"Runs\"]*200+40 \n",
    "sns.pointplot(x=\"Runs\", y=\"vals\", hue='cols', data=df_d, kind='point', ax=ax1)\n",
    "ax1.legend(bbox_to_anchor=(1.15, 1), borderaxespad=0)\n",
    "ax1.set_ylabel('')\n",
    "\n",
    "df_c = merged_conf.melt('Runs', var_name='cols',  value_name='vals')\n",
    "df_c[\"Runs\"] = df_c[\"Runs\"]*200+40 \n",
    "sns.pointplot(x=\"Runs\", y=\"vals\", hue='cols', data=df_c, kind='point', ax=ax2)\n",
    "ax2.legend(bbox_to_anchor=(1.15, 1), borderaxespad=0)\n",
    "ax2.set_ylabel('')"
   ]
  },
  {
   "cell_type": "code",
   "execution_count": null,
   "id": "edc05ffa",
   "metadata": {},
   "outputs": [],
   "source": [
    "fig.savefig(\"TotInv_delta.pdf\", pad_inches=0.1,  bbox_inches = 'tight')\n",
    "fig.savefig(\"TotInv_delta.png\", pad_inches=0.1,  bbox_inches = 'tight')"
   ]
  },
  {
   "cell_type": "code",
   "execution_count": null,
   "id": "51a70045",
   "metadata": {},
   "outputs": [],
   "source": [
    "fig, axs = plt.subplots(3, figsize=(15,20))\n",
    "\n",
    "colors = {0:'tab:cyan', 150:'tab:grey', 500:'tab:blue', 450:'tab:orange', 400:'tab:green', 350:'tab:red', 300:'tab:purple', 250:'tab:brown', 200:'tab:olive'}\n",
    "colors = {100:'tab:cyan', 1000:'tab:grey'}\n",
    "\n",
    "grouped = dfB.groupby('Res')\n",
    "dfB[\"PopGrid2\"] = dfB[\"PopSA\"]/1000000\n",
    "for key, group in grouped:\n",
    "    group.plot(ax=axs[0], kind='scatter', x='id', y='PopGrid2', label=key, color=colors[key])\n",
    "axs[0].get_legend().remove()\n",
    "ax=axs[0].get_yaxis().get_major_formatter().set_scientific(False)\n",
    "axs[0].set_xlabel(\"\")\n",
    "axs[0].set_ylabel(\"Benin\", fontsize = 20)\n",
    "axs[0].set_title(\"Effect of buffer on population connected to stand-alone PV\", fontsize = 20)\n",
    "axs[0].axes.get_xaxis().set_visible(False)\n",
    "\n",
    "grouped = dfM.groupby('Res')\n",
    "dfM[\"PopGrid2\"] = dfM[\"PopSA\"]/1000000\n",
    "for key, group in grouped:\n",
    "    group.plot(ax=axs[1], kind='scatter', x='id', y='PopGrid2', label=key, color=colors[key])\n",
    "ax=axs[1].get_yaxis().get_major_formatter().set_scientific(False)\n",
    "axs[1].set_xlabel(\"\")\n",
    "axs[1].set_ylabel(\"Malawi\", fontsize = 20)\n",
    "axs[1].legend(bbox_to_anchor=(1.01, 1), borderaxespad=0, title=\"Buffer (m)\", fontsize = 15, title_fontsize=15)\n",
    "axs[1].axes.get_xaxis().set_visible(False)\n",
    "\n",
    "grouped = dfN.groupby('Res')\n",
    "dfN[\"PopGrid2\"] = dfN[\"PopSA\"]/1000000\n",
    "for key, group in grouped:\n",
    "    group.plot(ax=axs[2], kind='scatter', x='id', y='PopGrid2', label=key, color=colors[key])\n",
    "axs[2].get_legend().remove()\n",
    "ax=axs[2].get_yaxis().get_major_formatter().set_scientific(False)\n",
    "axs[2].set_xlabel(\"\")\n",
    "axs[2].set_ylabel(\"Namibia\", fontsize = 20)\n",
    "axs[2].axes.get_xaxis().set_visible(False)\n",
    "\n",
    "fig.text(0.06, 0.5, 'Million people connected to stand-alone PV', ha='center', va='center', rotation='vertical', fontsize = 20)\n",
    "\n",
    "plt.show()\n",
    "fig.savefig(\"SAVSBuffer.png\", dpi = 300, facecolor=\"white\", edgecolor='none', bbox_inches='tight', pad_inches=0)\n",
    "fig.savefig(\"SAVSBuffer.pdf\", dpi = 300, facecolor=\"white\", edgecolor='none', bbox_inches='tight', pad_inches=0)"
   ]
  },
  {
   "cell_type": "code",
   "execution_count": null,
   "id": "7f5f530a",
   "metadata": {},
   "outputs": [],
   "source": [
    "fig, (ax1, ax2) = plt.subplots(2, figsize=(20,10))\n",
    "\n",
    "ax1.set_ylabel('Delta value')\n",
    "\n",
    "ax2.set_ylabel('Average LCoE (USD/kWh)')\n",
    "ax2.set_xlabel('% of scenarios')\n",
    "ax2.grid(True)\n",
    "\n",
    "\n",
    "my_xticks = ['0%','25%', '50%', '75%', '100%']\n",
    "x = np.array([0,520,1040,1560,2080])\n",
    "plt.xticks(x, my_xticks)\n",
    "ax2.set_xlim(0,2080)\n",
    "\n",
    "Barr = dfB[\"LCOE\"].to_numpy()\n",
    "Narr = dfN[\"LCOE\"].to_numpy()\n",
    "Marr = dfM[\"LCOE\"].to_numpy()\n",
    "\n",
    "values_b, base_b = np.histogram(Barr, bins=2080)\n",
    "values_m, base_m = np.histogram(Marr, bins=2080)\n",
    "values_n, base_n = np.histogram(Narr, bins=2080)\n",
    "\n",
    "cum_b = np.cumsum(values_b)\n",
    "cum_n = np.cumsum(values_n)\n",
    "cum_m = np.cumsum(values_m)\n",
    "\n",
    "ax2.plot(cum_b, base_b[:-1], c='b')\n",
    "ax2.plot(cum_m, base_m[:-1], c='g')\n",
    "ax2.plot(cum_n, base_n[:-1], c='r')\n",
    "\n",
    "colors = {'Benin':'b', 'Malawi':'g', 'Namibia':'r'}         \n",
    "labels = list(colors.keys())\n",
    "handles = [plt.Rectangle((0,0),1,1, color=colors[label]) for label in labels]\n",
    "ax2.legend(handles, labels, fontsize = 15, bbox_to_anchor=(0.98, 1))\n",
    "\n",
    "my_xticks = ['Demand','GridGenCost','PVCost','GridCapInvCost','DiscountRate','LVCost','MVCost','GridLosses','Core','Buffer','Admin','Method','Resolution']\n",
    "\n",
    "delta_ben = Si_ben[\"delta\"].tolist()\n",
    "delta_mal = Si_mal[\"delta\"].tolist()\n",
    "delta_nam = Si_nam[\"delta\"].tolist()\n",
    "\n",
    "data = [delta_ben, delta_mal, delta_nam]\n",
    "\n",
    "X = np.arange(13)\n",
    "ax1.bar(X + 0.00, data[0], color = 'b', width = 0.25)\n",
    "ax1.bar(X + 0.25, data[1], color = 'g', width = 0.25, tick_label = my_xticks)\n",
    "ax1.bar(X + 0.50, data[2], color = 'r', width = 0.25)\n",
    "\n",
    "ax1.legend(handles, labels, fontsize = 15, bbox_to_anchor=(0.98, 1))\n",
    "\n",
    "plt.show()\n",
    "\n",
    "fig.savefig(\"LCOEVSDelta.png\", dpi = 300, bbox_inches='tight', pad_inches=0)\n",
    "fig.savefig(\"LCOEVSDelta.pdf\", dpi = 300, bbox_inches='tight', pad_inches=0)"
   ]
  },
  {
   "cell_type": "code",
   "execution_count": null,
   "id": "04d7bef7",
   "metadata": {},
   "outputs": [],
   "source": [
    "fig, axs = plt.subplots(3, figsize=(15,20), sharex=True, squeeze=True)\n",
    "\n",
    "dfM_I = dfM[[\"GridInv\", \"MGInv\", \"SAInv\", \"TotInv\"]]/1000000000\n",
    "dfM_IS = dfM_I.sort_values(\"TotInv\") \n",
    "\n",
    "M_grid = dfM_IS['GridInv'].tolist()\n",
    "M_MG = dfM_IS['MGInv'].tolist()\n",
    "M_SA = dfM_IS['SAInv'].tolist()\n",
    "\n",
    "dfB_I = dfB[[\"GridInv\", \"MGInv\", \"SAInv\", \"TotInv\"]]/1000000000\n",
    "dfB_IS = dfB_I.sort_values(\"TotInv\") \n",
    "\n",
    "B_grid = dfB_IS['GridInv'].tolist()\n",
    "B_MG = dfB_IS['MGInv'].tolist()\n",
    "B_SA = dfB_IS['SAInv'].tolist()\n",
    "\n",
    "dfN_I = dfN[[\"GridInv\", \"MGInv\", \"SAInv\", \"TotInv\"]]/1000000000\n",
    "dfN_IS = dfN_I.sort_values(\"TotInv\") \n",
    "\n",
    "N_grid = dfN_IS['GridInv'].tolist()\n",
    "N_MG = dfN_IS['MGInv'].tolist()\n",
    "N_SA = dfN_IS['SAInv'].tolist()\n",
    "\n",
    "\n",
    "population_by_continent = {\n",
    "    'Mini-grid': B_MG,\n",
    "    'Stand-alone': B_SA,\n",
    "    'Grid': B_grid\n",
    "}\n",
    "axs[0].stackplot(range(1,2081), population_by_continent.values(),\n",
    "             labels=population_by_continent.keys(),edgecolor=\"#ffffff00\")\n",
    "\n",
    "axs[0].get_yaxis().get_major_formatter().set_scientific(False)\n",
    "axs[0].set_ylabel(\"Benin\", fontsize = 20)\n",
    "axs[0].set_title(\"Stacked area chart of investment cost per category\", fontsize = 20)\n",
    "\n",
    "population_by_continent = {\n",
    "    'Mini-grid': M_MG,\n",
    "    'Stand-alone': M_SA,\n",
    "    'Grid': M_grid\n",
    "}\n",
    "axs[1].stackplot(range(1,2081), population_by_continent.values(),\n",
    "             labels=population_by_continent.keys(),edgecolor=\"#ffffff00\")\n",
    "\n",
    "ax=axs[1].get_yaxis().get_major_formatter().set_scientific(False)\n",
    "axs[1].set_ylabel(\"Malawi\", fontsize = 20)\n",
    "axs[1].set_xlim(0,2080)\n",
    "\n",
    "axs[1].legend(bbox_to_anchor=(1.17, 1), borderaxespad=0, title=\"Category\", fontsize = 15, title_fontsize=15)\n",
    "\n",
    "population_by_continent = {\n",
    "    'Mini-grid': N_MG,\n",
    "    'Stand-alone': N_SA,\n",
    "    'Grid': N_grid\n",
    "}\n",
    "axs[2].stackplot(range(1,2081), population_by_continent.values(),\n",
    "             labels=population_by_continent.keys(),edgecolor=\"#ffffff00\")\n",
    "\n",
    "my_xticks = ['0%','25%', '50%', '75%', '100%']\n",
    "x = np.array([0,520,1040,1560,2080])\n",
    "plt.xticks(x, my_xticks)\n",
    "axs[2].set_xlim(0,2080)\n",
    "\n",
    "ax=axs[2].get_yaxis().get_major_formatter().set_scientific(False)\n",
    "axs[2].set_xlabel(\"% of scenarios\")\n",
    "axs[2].set_ylabel(\"Namibia\", fontsize = 20)\n",
    "\n",
    "\n",
    "fig.text(0.06, 0.5, 'Investment cost (billion USD)', ha='center', va='center', rotation='vertical', fontsize = 20)\n",
    "\n",
    "plt.show()\n",
    "\n",
    "fig.savefig(\"InvCost.png\", dpi = 300, bbox_inches='tight', pad_inches=0)\n",
    "fig.savefig(\"InvCost.pdf\", dpi = 300, bbox_inches='tight', pad_inches=0)"
   ]
  }
 ],
 "metadata": {
  "kernelspec": {
   "display_name": "Python 3",
   "language": "python",
   "name": "python3"
  },
  "language_info": {
   "codemirror_mode": {
    "name": "ipython",
    "version": 3
   },
   "file_extension": ".py",
   "mimetype": "text/x-python",
   "name": "python",
   "nbconvert_exporter": "python",
   "pygments_lexer": "ipython3",
   "version": "3.9.2"
  }
 },
 "nbformat": 4,
 "nbformat_minor": 5
}
